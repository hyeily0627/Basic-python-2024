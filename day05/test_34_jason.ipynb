{
 "cells": [
  {
   "cell_type": "markdown",
   "metadata": {},
   "source": [
    "## json Input/Output\n",
    "json 읽고 쓰기\n",
    "### json  포맷"
   ]
  },
  {
   "cell_type": "code",
   "execution_count": 1,
   "metadata": {},
   "outputs": [],
   "source": [
    "# file : test_34_jason.ipynb\n",
    "# dese : json 예제\n",
    "# 기본 표현 {\"키\": 값}\n",
    "\n",
    "json_ex = '{\"name\" :\"오혜진\", \"age\" : 47}'"
   ]
  },
  {
   "cell_type": "markdown",
   "metadata": {},
   "source": [
    "## json 읽기"
   ]
  },
  {
   "cell_type": "markdown",
   "metadata": {},
   "source": [
    "json 모듈 가져오기"
   ]
  },
  {
   "cell_type": "code",
   "execution_count": 2,
   "metadata": {},
   "outputs": [],
   "source": [
    "import json"
   ]
  },
  {
   "cell_type": "code",
   "execution_count": 3,
   "metadata": {},
   "outputs": [
    {
     "name": "stdout",
     "output_type": "stream",
     "text": [
      "{\n",
      "\t\"ionic\": {\n",
      "\t\t\"price\": 20000000,\n",
      "\t\t\"year\": 2019,\n",
      "\t\t\"auto\": true\n",
      "\t},\n",
      "\t\"genesis\": {\n",
      "\t\t\"price\": 80000000,\n",
      "\t\t\"year\": 2022,\n",
      "\t\t\"auto\": true\n",
      "\t},\n",
      "\t\"ferrari\": {\n",
      "\t\t\"price\": 1500000000,\n",
      "\t\t\"year\": 2020,\n",
      "\t\t\"auto\": false\n",
      "\t}\n",
      "}\n"
     ]
    }
   ],
   "source": [
    "file = open('./car.json',mode='r',encoding='utf-8') # ./하면 내폴더 ../하면 부모폴더\n",
    "# 최초에는 파일 입출력 사용\n",
    "data = json.load(file) # json파일로 변환\n",
    "file.close()\n",
    "\n",
    "print(json.dumps(data,indent=\"\\t\")) # 문자열로 변환 / 원파일과 비슷하게 출력 : indent=\"\\t\" "
   ]
  },
  {
   "cell_type": "markdown",
   "metadata": {},
   "source": [
    "## json 출력하기\n",
    "파이썬의 딕셔너리와 사용방법이 동일하다."
   ]
  },
  {
   "cell_type": "code",
   "execution_count": 4,
   "metadata": {},
   "outputs": [
    {
     "data": {
      "text/plain": [
       "1500000000"
      ]
     },
     "execution_count": 4,
     "metadata": {},
     "output_type": "execute_result"
    }
   ],
   "source": [
    "data['ferrari']\n",
    "data['ferrari']['price']"
   ]
  },
  {
   "cell_type": "markdown",
   "metadata": {},
   "source": [
    "## json 파일 수정하기"
   ]
  },
  {
   "cell_type": "code",
   "execution_count": 5,
   "metadata": {},
   "outputs": [
    {
     "data": {
      "text/plain": [
       "{'ionic': {'price': 20000000, 'year': 2019, 'auto': True},\n",
       " 'genesis': {'price': 80000000, 'year': 2022, 'auto': True},\n",
       " 'ferrari': {'price': 1500000000, 'year': 2020, 'auto': True}}"
      ]
     },
     "execution_count": 5,
     "metadata": {},
     "output_type": "execute_result"
    }
   ],
   "source": [
    "data['ferrari']['auto'] = True\n",
    "data"
   ]
  },
  {
   "cell_type": "markdown",
   "metadata": {},
   "source": [
    "## json 쓰기"
   ]
  },
  {
   "cell_type": "code",
   "execution_count": 6,
   "metadata": {},
   "outputs": [
    {
     "data": {
      "text/plain": [
       "{'audi': {'price': 3000000000, 'year': '2024', 'auto': True},\n",
       " 'porsche': {'price': 1000000000, 'year': '2017', 'auto': True}}"
      ]
     },
     "execution_count": 6,
     "metadata": {},
     "output_type": "execute_result"
    }
   ],
   "source": [
    "# json으로 만들 기본데이터 생성\n",
    "supercars = dict() #json은 딕셔너리와 완전히 일치, 생성시도 딕셔너리로 생성 \n",
    "\n",
    "audi = dict() #내부데이터 딕셔너리 \n",
    "audi ['price'] = 3000000000\n",
    "audi ['year'] = '2024' \n",
    "audi ['auto'] = True \n",
    "\n",
    "porsche = dict() #내부데이터 딕셔너리 \n",
    "porsche ['price'] = 1000000000\n",
    "porsche ['year'] = '2017' \n",
    "porsche ['auto'] = True \n",
    "\n",
    "supercars['audi'] = audi\n",
    "supercars['porsche'] = porsche\n",
    "\n",
    "supercars"
   ]
  },
  {
   "cell_type": "code",
   "execution_count": 7,
   "metadata": {},
   "outputs": [],
   "source": [
    "## json 파일 쓰기\n",
    "f = open('./supercars.json', mode='w', encoding='utf-8')\n",
    "json.dump(supercars, f, indent='\\t', ensure_ascii=True)\n",
    "f.close()\n"
   ]
  },
  {
   "cell_type": "code",
   "execution_count": 8,
   "metadata": {},
   "outputs": [],
   "source": [
    "## with -> 나는 close를 하고 싶지 않다. python이 실행해줘\n",
    "with open('./supercars.json', mode='w', encoding='utf-8') as f2 :\n",
    "    json.dump(supercars, f2,indent='\\t', ensure_ascii=True )"
   ]
  },
  {
   "cell_type": "code",
   "execution_count": 9,
   "metadata": {},
   "outputs": [
    {
     "name": "stdout",
     "output_type": "stream",
     "text": [
      "{\n",
      "\t\"audi\": {\n",
      "\t\t\"price\": 3000000000,\n",
      "\t\t\"year\": \"2024\",\n",
      "\t\t\"auto\": true\n",
      "\t},\n",
      "\t\"porsche\": {\n",
      "\t\t\"price\": 1000000000,\n",
      "\t\t\"year\": \"2017\",\n",
      "\t\t\"auto\": true\n",
      "\t}\n",
      "}\n"
     ]
    }
   ],
   "source": [
    "## json 파일을 읽어옴. with문 사용\n",
    "\n",
    "with open('./supercars.json',mode='r',encoding='utf-8') as file :\n",
    "     data = json.load(file) \n",
    "\n",
    "\n",
    "print(json.dumps(data,indent=\"\\t\"))\n"
   ]
  },
  {
   "cell_type": "code",
   "execution_count": null,
   "metadata": {},
   "outputs": [],
   "source": []
  }
 ],
 "metadata": {
  "kernelspec": {
   "display_name": "Python 3",
   "language": "python",
   "name": "python3"
  },
  "language_info": {
   "codemirror_mode": {
    "name": "ipython",
    "version": 3
   },
   "file_extension": ".py",
   "mimetype": "text/x-python",
   "name": "python",
   "nbconvert_exporter": "python",
   "pygments_lexer": "ipython3",
   "version": "3.11.5"
  }
 },
 "nbformat": 4,
 "nbformat_minor": 2
}
