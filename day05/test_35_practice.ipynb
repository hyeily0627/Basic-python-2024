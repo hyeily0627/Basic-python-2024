{
 "cells": [
  {
   "cell_type": "markdown",
   "metadata": {},
   "source": [
    "## 응용예제 따라하기"
   ]
  },
  {
   "cell_type": "markdown",
   "metadata": {},
   "source": [
    "\n",
    "### 01.IP address 찾기\n"
   ]
  },
  {
   "cell_type": "code",
   "execution_count": 13,
   "metadata": {},
   "outputs": [
    {
     "data": {
      "text/plain": [
       "'210.119.12.57'"
      ]
     },
     "execution_count": 13,
     "metadata": {},
     "output_type": "execute_result"
    }
   ],
   "source": [
    "# 웹크롤링 기본 \n",
    "import requests\n",
    "import re # 정규식\n",
    "# hj_o5h@naver.com / 980627-2999999 등 @를 #로 쓰면 x, 주민번호 자릿수가 다르면 안되듯이 지정된 형식을 벗어나지 않도록 함.\n",
    "\n",
    "req = requests.get(\"http://ipconfig.kr\")\n",
    "out_addr = re.search(r'\\d{1,3}\\.\\d{1,3}\\.\\d{1,3}\\.\\d{1,3}', req.text)[0]\n",
    "out_addr"
   ]
  },
  {
   "cell_type": "code",
   "execution_count": 14,
   "metadata": {},
   "outputs": [
    {
     "name": "stdout",
     "output_type": "stream",
     "text": [
      "210.119.12.57\n"
     ]
    }
   ],
   "source": [
    "import requests\n",
    "import re\n",
    "\n",
    "req = requests.get(\"http://ipconfig.kr\")\n",
    "out_addr = re.search(r'IP Address : (\\d{1,3}\\.\\d{1,3}\\.\\d{1,3}\\.\\d{1,3})', req.text)[1]\n",
    "print(out_addr)"
   ]
  },
  {
   "cell_type": "code",
   "execution_count": 15,
   "metadata": {},
   "outputs": [
    {
     "name": "stdout",
     "output_type": "stream",
     "text": [
      "IP Address : 210.119.12.57\n"
     ]
    }
   ],
   "source": [
    "import requests\n",
    "import re\n",
    "\n",
    "req = requests.get(\"http://ipconfig.kr\")\n",
    "out_addr = re.search(r'IP Address : (\\d{1,3}\\.\\d{1,3}\\.\\d{1,3}\\.\\d{1,3})', req.text)[0]\n",
    "print(out_addr)"
   ]
  },
  {
   "cell_type": "code",
   "execution_count": 16,
   "metadata": {},
   "outputs": [
    {
     "data": {
      "text/plain": [
       "'\\n<HTML>\\n<HEAD>\\n\\n<meta http-equiv=Content-Type content=\"text/html;charset=utf-8\">\\n<meta http-equiv=\"Cache-Control\" content=\"no-cache, must-revalidate\">\\n<link rel=\"stylesheet\" media=\"all\" href=\"style.css\" type=\"text/css\">\\n<link href=\"private.css\" rel=\"stylesheet\" type=\"text/css\" />\\n<TITLE>IPCONFIG.CO.KR , IPCONFIG.KR </TITLE>\\n  <script src=\"http://maps.google.com/maps?file=api&amp;v=2&amp;sensor=false&amp;key=ABQIAAAAiImwPU9TOlOH9c0BVK5wiBQhUARatXXlHSvtQkcnc5sYFMwjUBS3r03edq_JXYtiMWn0b7PbDEXwVA\" type=\"text/javascript\"></script>\\n    <script type=\"text/javascript\">\\n\\n    //<![CDATA[\\n\\n\\n    function load() {\\n      if (GBrowserIsCompatible()) {\\n\\n\\nvar txt = \\'<span class=\"standard\"><center><br>IP Address: 210.119.12.57 <br> Country : KOREA, REPUBLIC OF , CITY: BUCHON <br></center></span>\\';\\nvar map = new GMap2(document.getElementById(\\'map\\'));\\nvar point = new GLatLng(37.483, 126.783);        map.setCenter(point, 3);\\n        var marker = new GMarker(point);\\n        GEvent.addListener(marker, \"click\", function() {\\n        marker.openInfoWindowHtml(txt);\\n        });\\n        map.addOverlay(marker);\\n\\tmarker.openInfoWindowHtml(txt);\\n        map.addControl(new GLargeMapControl());\\n        map.addControl(new GMapTypeControl());\\n      }\\n    }\\n\\n    //]]>\\n\\n</script>\\n\\n<script>\\nfunction ip(){document.f.ipno.focus();}\\n</script>\\n\\n<script type=\"text/javascript\" src=\"br.js\"></script>\\n\\n<body onLoad=\"load();\">\\n\\n<form name=\"whois_form\"><input type=hidden name=\"domain_name\" value=\"\"></form>\\n<br>\\n<div id=\"content-main\">\\n<h1>    Welcome to IPCONFIG.KR </h1>\\n\\n<h2>\\n\\n You\\'re using  <font color=blue>unknownunknown</font> on unknown.<br>\\nIP address :  <font color=red> 210.119.12.57</font><br>\\n\\n\\n\\n\\n</h2>\\n\\n<p>\\n<script type=\"text/javascript\"><!--\\ngoogle_ad_client = \"pub-4453318024179054\";\\n/* 728x90, ÀÛ¼ºµÊ 08. 9. 25 */\\ngoogle_ad_slot = \"9360405797\";\\ngoogle_ad_width = 728;\\ngoogle_ad_height = 90;\\ngoogle_language = \"ko\";\\n//-->\\n</script>\\n<script type=\"text/javascript\"\\nsrc=\"http://pagead2.googlesyndication.com/pagead/show_ads.js\">\\n</script>\\n\\n\\n     <form name=\"f\" method=\"post\" action=\"\">\\n     <font face=\"Times New Roman, Times, serif\" size=5>Run unlimited IP lookups</font> <p>\\n    <input type=\"text\" name=ipno name=\"\" maxlength=\"60\" size=\"30\" style=\"font-size: 200%\" background-color:#ffffff; border:1px solid:aec19b;\"></font>\\n     <input type=\"submit\" size=\"40\" value=\"Lookup\" size=\"30\" style=\"font-size:200 %\">\\n<br>\\n<font color=red>New</font> :  Last updated : 2016.05.17 <br>\\n     </form>\\n<p>\\n\\n\\n\\n\\n\\n <a href=\\'http://www.national-anthems.net/windowsmedia/vocal/ks\\' target=\\'_new\\'><img src=\\'FlagDisplay.php?img_name=KR\\'></a> \\n\\n<p>\\n<DIV class=txc-textbox style=\\'BORDER-RIGHT: #c1c1c1 1px dashed; PADDING-RIGHT: 10px; BORDER-TOP: #c1c1c1 1px dashed; PADDING-LEFT: 10px; PADDING-BOTTOM: 10px; BORDER-LEFT: #c1c1c1 1px dashed; PADDING-TOP: 10px; BORDER-BOTTOM: #c1c1c1 1px dashed; BACKGROUND-COLOR: #eeeeee\\'> <b>What\\'s New </b>\\n- Country (<font color=#333399><a\\n\\t\\thref=\\'https://www.cia.gov/library/publications/the-world-factbook/geos/ks.html\\'\\n\\t\\ttarget=\\'_new\\'>Korea, South</a></font>) information has been updated as of \\n12\\nMay 2016.<br>\\nInformation on geography, people, government, transportation, economy, communications, military, <br>\\nand transnational issues.\\n - <a href=\\'https://www.cia.gov/library/publications/the-world-factbook/\\' target=\\'_new\\'>CIA - The World Factbook</a>\\n <br />\\n</DIV><br />\\n<script type=\\'text/javascript\\'><!--\\ngoogle_ad_client = \\'pub-4453318024179054\\';\\n/* 728x15, ÀÛ¼ºµÊ 09. 1. 27 */\\ngoogle_ad_slot = \\'5397137766\\';\\ngoogle_ad_width = 728;\\ngoogle_ad_height = 15;\\n//-->\\n</script>\\n<script type=\\'text/javascript\\'\\nsrc=\\'http://pagead2.googlesyndication.com/pagead/show_ads.js\\'>\\n</script>\\n\\n<p> IP Address : 210.119.12.57\\n<br> inetnum :  210.90.0.0 - 210.127.255.255 <a href=\\'http://www.subnet-calculator.com/cidr.php\\' target=\\'_new\\'><img src=\\'FlagDisplay.php?img_name=subnet\\'></a>\\n<br> Country    : KOREA, REPUBLIC OF \\n<br> Country Code : KR\\n<br> CITY       :\\n<a href=\\'http://www.timeanddate.com/worldclock/results.html?query=BUCHON\\' target=\\'_new\\'>BUCHON</a>\\n\\n<br> REGION     : KYONGGI-DO\\n<br> ISP        : PUKYONG NATIONAL UNIVERSITY\\n<br> DOMAIN     : PKNU.AC.KR <br>\\n\\nKRNIC : <img src=\\'FlagDisplay.php?img_name=green_check\\'> <a href=\\'http://whois.kr/kor/whois.jsp?query=210.119.12.57\\' target=\\'_new\\'>Verification</a><br>\\n<p>\\n<h1> </h1>\\n<p>\\n\\nThe IP address <b>210.119.12.57</b> is located in the following region &\\nLocal time : \\n<b> \\n<a href=\\'http://en.wikipedia.org/wiki/Coordinated_Universal_Time\\' target=\\'_new\\'>UTC</a> <a href=\\'http://upload.wikimedia.org/wikipedia/commons/e/e7/Timezones2008.png\\' target=\\'_new\\'><img src=\\'FlagDisplay.php?img_name=time\\'></a>\\n</b>\\n\\n<p>\\n<table>\\n<tr>\\n\\t<td bgcolor=\"#ffffff\" align=\"left\" valign=\"top\" class=\"standard\"><div id=\"map\" style=\"width: 728px; height: 400px\"></div></td>\\n\\t</tr>\\n</table>\\n<p>\\n<script type=\"text/javascript\"><!--\\ngoogle_ad_client = \"pub-4453318024179054\";\\n/* 728x90, ?Û¼ºµ?08. 9. 25 */\\ngoogle_ad_slot = \"9360405797\";\\ngoogle_ad_width = 728;\\ngoogle_ad_height = 90;\\ngoogle_language = \"ko\";\\n//-->\\n</script>\\n<script type=\"text/javascript\"\\nsrc=\"http://pagead2.googlesyndication.com/pagead/show_ads.js\">\\n</script>\\n\\n<p>\\n<h1></h1>\\n\\n<p>\\n<!-- h3>Copyright(c) 2007 ipconfig.co.kr , mailto: ahnkwang@gmail.com</h3 --> \\n<h3> This Site includes Google Maps. <a href=\\'http://maps.google.com\\' border=\\'0\\' target=_new><img src=\\'ImageDisplay.php?img_name=googlemap\\'></a> </h3>\\n<p>\\n</div>\\n<script language=\"javascript\">\\nfunction check_ip(ipval){\\n    document.whois_form.action=\\'http://whois.nic.or.kr/kor/whois.jsp\\';\\n    document.whois_form.method=\\'post\\';\\n    document.whois_form.target=\\'_blank\\';\\n    document.whois_form.domain_name.value = ipval;\\n    document.whois_form.submit();\\n    document.whois_form.action=\\'\\';\\n    document.whois_form.method=\\'\\';\\n    document.whois_form.target=\\'\\';\\n}\\n</script>\\n\\n\\n<script src=\"http://www.google-analytics.com/urchin.js\" type=\"text/javascript\">\\n</script>\\n<script type=\"text/javascript\">\\n_uacct = \"UA-1325024-2\";\\nurchinTracker();\\n</script>\\n<br>\\n</body>\\n</html>\\n<script type=\"text/javascript\" charset=\"euc-kr\" src=\"http://log.inside.daum.net/dwi_log/js/dwi.js\"></script>\\n<script type=\"text/javascript\" >\\n\\t_dwiPID=\"d-JIV-233\";\\n\\tif(typeof(_dwiCatch) == \"function\") { _dwiCatch();}\\n'"
      ]
     },
     "execution_count": 16,
     "metadata": {},
     "output_type": "execute_result"
    }
   ],
   "source": [
    "req.text\n",
    "\n",
    "# 위 구문 끝에 [0] [1]로 차이가 나는건 req.text에서 추출하고자 하는 것에 대한 순번을 기입하는 것 \n",
    "# 첫번째 명령 [0]은 210.119.12.57가 1개 밖에 없어서\n",
    "# 두번째 명령 [0], [1]이 가능한 이유는 IP Address : 210.119.12.57가 2개 있어서 "
   ]
  },
  {
   "cell_type": "markdown",
   "metadata": {},
   "source": [
    "### 02.QR코드 생성\n",
    "\n",
    "QRCODE 모듈 추가 "
   ]
  },
  {
   "cell_type": "code",
   "execution_count": 17,
   "metadata": {},
   "outputs": [
    {
     "name": "stdout",
     "output_type": "stream",
     "text": [
      "Requirement already satisfied: qrcode in c:\\dev\\langs\\python311\\lib\\site-packages (7.4.2)\n",
      "Requirement already satisfied: typing-extensions in c:\\dev\\langs\\python311\\lib\\site-packages (from qrcode) (4.9.0)\n",
      "Requirement already satisfied: pypng in c:\\dev\\langs\\python311\\lib\\site-packages (from qrcode) (0.20220715.0)\n",
      "Requirement already satisfied: colorama in c:\\users\\administrator\\appdata\\roaming\\python\\python311\\site-packages (from qrcode) (0.4.6)\n"
     ]
    },
    {
     "name": "stderr",
     "output_type": "stream",
     "text": [
      "\n",
      "[notice] A new release of pip is available: 23.2.1 -> 23.3.2\n",
      "[notice] To update, run: python.exe -m pip install --upgrade pip\n"
     ]
    }
   ],
   "source": [
    "!pip install qrcode"
   ]
  },
  {
   "cell_type": "code",
   "execution_count": 18,
   "metadata": {},
   "outputs": [],
   "source": [
    "import qrcode"
   ]
  },
  {
   "cell_type": "code",
   "execution_count": 19,
   "metadata": {},
   "outputs": [],
   "source": [
    "# QR코드 생성\n",
    "origin_data = 'https://www.naver.com' #큐알코드 생성할 텍스트 지정 \n",
    "qrcode_img = qrcode.make(origin_data)"
   ]
  },
  {
   "cell_type": "code",
   "execution_count": 20,
   "metadata": {},
   "outputs": [
    {
     "data": {
      "image/jpeg": "[encoded data removed]",
      "image/png": "[encoded data removed]",
      "text/plain": [
       "<qrcode.image.pil.PilImage at 0x18cb7034a10>"
      ]
     },
     "execution_count": 20,
     "metadata": {},
     "output_type": "execute_result"
    }
   ],
   "source": [
    "qrcode_img"
   ]
  },
  {
   "cell_type": "code",
   "execution_count": 21,
   "metadata": {},
   "outputs": [],
   "source": [
    "# QR코드 객체 생성\n",
    "qr = qrcode.QRCode(version=1, error_correction=qrcode.ERROR_CORRECT_L,\n",
    "                   box_size=10, border=4)\n"
   ]
  },
  {
   "cell_type": "code",
   "execution_count": 22,
   "metadata": {},
   "outputs": [],
   "source": [
    "# QR코드에 들어갈 데이터 추가\n",
    "qr.add_data(origin_data)\n",
    "qr.make(fit=True)"
   ]
  },
  {
   "cell_type": "code",
   "execution_count": 30,
   "metadata": {},
   "outputs": [],
   "source": [
    "# image 생성\n",
    "img = qr.make_image(fill_color = 'pink', back_color = 'black')"
   ]
  },
  {
   "cell_type": "code",
   "execution_count": 31,
   "metadata": {},
   "outputs": [],
   "source": [
    "# image 저장\n",
    "img.save('./qrcode01.png')"
   ]
  },
  {
   "cell_type": "code",
   "execution_count": 32,
   "metadata": {},
   "outputs": [
    {
     "data": {
      "image/jpeg": "[encoded data removed]",
      "image/png": "[encoded data removed]",
      "text/plain": [
       "<qrcode.image.pil.PilImage at 0x18cb743be90>"
      ]
     },
     "metadata": {},
     "output_type": "display_data"
    }
   ],
   "source": [
    "# 화면에 표시\n",
    "display(img)"
   ]
  },
  {
   "cell_type": "code",
   "execution_count": 26,
   "metadata": {},
   "outputs": [
    {
     "name": "stdout",
     "output_type": "stream",
     "text": [
      "Requirement already satisfied: matplotlib in c:\\dev\\langs\\python311\\lib\\site-packages (3.8.2)\n",
      "Requirement already satisfied: contourpy>=1.0.1 in c:\\dev\\langs\\python311\\lib\\site-packages (from matplotlib) (1.2.0)\n",
      "Requirement already satisfied: cycler>=0.10 in c:\\dev\\langs\\python311\\lib\\site-packages (from matplotlib) (0.12.1)\n",
      "Requirement already satisfied: fonttools>=4.22.0 in c:\\dev\\langs\\python311\\lib\\site-packages (from matplotlib) (4.47.2)\n",
      "Requirement already satisfied: kiwisolver>=1.3.1 in c:\\dev\\langs\\python311\\lib\\site-packages (from matplotlib) (1.4.5)\n",
      "Requirement already satisfied: numpy<2,>=1.21 in c:\\dev\\langs\\python311\\lib\\site-packages (from matplotlib) (1.26.3)\n",
      "Requirement already satisfied: packaging>=20.0 in c:\\users\\administrator\\appdata\\roaming\\python\\python311\\site-packages (from matplotlib) (23.2)\n",
      "Requirement already satisfied: pillow>=8 in c:\\dev\\langs\\python311\\lib\\site-packages (from matplotlib) (10.2.0)\n",
      "Requirement already satisfied: pyparsing>=2.3.1 in c:\\dev\\langs\\python311\\lib\\site-packages (from matplotlib) (3.1.1)\n",
      "Requirement already satisfied: python-dateutil>=2.7 in c:\\users\\administrator\\appdata\\roaming\\python\\python311\\site-packages (from matplotlib) (2.8.2)\n",
      "Requirement already satisfied: six>=1.5 in c:\\users\\administrator\\appdata\\roaming\\python\\python311\\site-packages (from python-dateutil>=2.7->matplotlib) (1.16.0)\n"
     ]
    },
    {
     "name": "stderr",
     "output_type": "stream",
     "text": [
      "\n",
      "[notice] A new release of pip is available: 23.2.1 -> 23.3.2\n",
      "[notice] To update, run: python.exe -m pip install --upgrade pip\n"
     ]
    }
   ],
   "source": [
    "# matplotlib 라이브러리 설치 \n",
    "!pip install matplotlib"
   ]
  },
  {
   "cell_type": "code",
   "execution_count": null,
   "metadata": {},
   "outputs": [],
   "source": []
  }
 ],
 "metadata": {
  "kernelspec": {
   "display_name": "Python 3",
   "language": "python",
   "name": "python3"
  },
  "language_info": {
   "codemirror_mode": {
    "name": "ipython",
    "version": 3
   },
   "file_extension": ".py",
   "mimetype": "text/x-python",
   "name": "python",
   "nbconvert_exporter": "python",
   "pygments_lexer": "ipython3",
   "version": "3.11.5"
  }
 },
 "nbformat": 4,
 "nbformat_minor": 2
}
