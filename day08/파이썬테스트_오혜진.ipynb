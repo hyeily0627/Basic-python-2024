{
 "cells": [
  {
   "cell_type": "markdown",
   "metadata": {},
   "source": [
    "## 1번 문제"
   ]
  },
  {
   "cell_type": "code",
   "execution_count": 85,
   "metadata": {},
   "outputs": [
    {
     "name": "stdout",
     "output_type": "stream",
     "text": [
      "'원의 넓이'= 78.5398\n"
     ]
    }
   ],
   "source": [
    "# 1번 문제 : 반지름 값을 입력 받아 원의 넓이를 출력하는 프로그램을 구현하시오. π는 3.141592 입니다.\n",
    "\n",
    "pi = 3.141592\n",
    "r = float(input('숫자를 입력하세요> '))\n",
    "\n",
    "print(\"'원의 넓이'=\", pi * r ** 2 )\n",
    "\n"
   ]
  },
  {
   "cell_type": "markdown",
   "metadata": {},
   "source": [
    "## 2번 문제"
   ]
  },
  {
   "cell_type": "code",
   "execution_count": 86,
   "metadata": {},
   "outputs": [
    {
     "name": "stdout",
     "output_type": "stream",
     "text": [
      "해당 행성의 한글 이름은 금성입니다.\n"
     ]
    }
   ],
   "source": [
    "# 2번 문제 : 태양계는 수성, 금성, 지구, 화성, 목성, 토성, 천왕성, 해왕성으로 구성됩니다. 영어 이름은 Mercury, Venus, Earth, Mars, Jupiter,  Saturn, Uranus, Neptune 입니다.  행성의 영어 이름을 입력하면 한글 행성 이름이 출력 되는 프로그램을 구현하세요.\n",
    "\n",
    "uni =['수성', '금성', '지구', '화성', '목성', '토성', '천왕성', '해왕성']\n",
    "uni_2 =['Mercury', 'Venus', 'Earth', 'Mars', 'Jupiter',  'Saturn', 'Uranus', 'Neptune']\n",
    "\n",
    "planet = str(input('행성의 영어명을 입력하세요(시작은 대문자)> '))\n",
    "\n",
    "if planet == 'Mercury':\n",
    "    print('해당 행성의 한글 이름은 수성입니다.')\n",
    "elif planet == 'Venus':\n",
    "    print('해당 행성의 한글 이름은 금성입니다.')\n",
    "elif planet == 'Venus':\n",
    "    print('해당 행성의 한글 이름은 지구입니다.')\n",
    "elif planet == 'Venus':\n",
    "    print('해당 행성의 한글 이름은 화성입니다.')\n",
    "elif planet == 'Venus':\n",
    "    print('해당 행성의 한글 이름은 목성입니다.') \n",
    "elif planet == 'Venus':\n",
    "    print('해당 행성의 한글 이름은 토성입니다.')  \n",
    "elif planet == 'Venus':\n",
    "    print('해당 행성의 한글 이름은 천왕성입니다.') \n",
    "elif planet == 'Venus':\n",
    "    print('해당 행성의 한글 이름은 해왕성입니다.')\n"
   ]
  },
  {
   "cell_type": "markdown",
   "metadata": {},
   "source": [
    "## 3번 문제"
   ]
  },
  {
   "cell_type": "code",
   "execution_count": 96,
   "metadata": {},
   "outputs": [
    {
     "name": "stdout",
     "output_type": "stream",
     "text": [
      "입력한 영어 문자열의 단어 수: 12\n",
      "짝수 번째 단어를 대문자로 변환한 결과: the HARDER you WORK the MORE likely YOU can REACH the GOAL \n"
     ]
    }
   ],
   "source": [
    "# 3번 문제 : 입력한 영어 문자열의 단어의 수를 출력하고 입력된 단어를 짝수로 대문자로 변경하여 출력하는 프로그램을 구현하세요. 예) I'm going to leave the door open = 7 / \n",
    "# I'm GOING to LEAVE the DOOR open\n",
    "\n",
    "#The harder you work the more likely you can reach the goal\n",
    "\n",
    "sentence = input(\"영어 문자열을 입력하세요: \")\n",
    "\n",
    "word_count = len(sentence.split())\n",
    "print(\"입력한 영어 문자열의 단어 수:\", word_count)\n",
    "\n",
    "idx = 0 \n",
    "result = ''\n",
    "\n",
    "for word in sentence.split():\n",
    "    if idx % 2 == 1: # 짝수 순번일때 - 인덱스가 0부터 시작이니까 1이 남아야 짝수번임\n",
    "        word = word.upper() \n",
    "    elif idx % 2 == 0: \n",
    "        word = word.lower()\n",
    "    result += word + ' ' # 문장 띄어쓰기 / =+ : 왼쪽 변수에 오른쪽 값을 더하고 결과를 왼쪽 변수에 할당\n",
    "    idx += 1 # if문안에서 인덱스 증가시키기 = sentence가 5개면 5개까지 for문안에서 반복\n",
    "\n",
    "print(\"짝수 번째 단어를 대문자로 변환한 결과:\", result)\n",
    "\n"
   ]
  },
  {
   "cell_type": "code",
   "execution_count": 90,
   "metadata": {},
   "outputs": [
    {
     "name": "stdout",
     "output_type": "stream",
     "text": [
      "웹사이트 주소: www.naver.com\n"
     ]
    }
   ],
   "source": [
    "# 4번 문제 : 영문이름을 입력하면 웹사이트 주소가 리턴되는 함수 get_url() 를  구현하세요.\n",
    "# 예) url = get_url('google') \n",
    "# print(url) # www.google.com\n",
    "\n",
    "def get_url(name):\n",
    "    url = 'www.' + name + '.com'\n",
    "    return url\n",
    "\n",
    "name = input(\"웹의 영문 이름을 입력하세요> \")\n",
    "\n",
    "url = get_url(name)\n",
    "print(\"웹사이트 주소:\", url)\n",
    "\n"
   ]
  },
  {
   "cell_type": "markdown",
   "metadata": {},
   "source": [
    "## 5번 문제"
   ]
  },
  {
   "cell_type": "code",
   "execution_count": 94,
   "metadata": {},
   "outputs": [
    {
     "name": "stdout",
     "output_type": "stream",
     "text": [
      "<4단>\n",
      "4 X 1 = 4\n",
      "4 X 2 = 8\n",
      "4 X 3 = 12\n",
      "4 X 4 = 16\n",
      "4 X 5 = 20\n",
      "4 X 6 = 24\n",
      "4 X 7 = 28\n",
      "4 X 8 = 32\n",
      "4 X 9 = 36\n"
     ]
    }
   ],
   "source": [
    "# 5번 문제 : 구구단을 수행할 단번호를 입력하면 그 단의 9까지의 결과를 나열하는 프로그램을 입력하세요. 예) 3 --> 3 6 9 12 15 18 21 24 2\n",
    "\n",
    "# x = [1,2,3,4,5,6,7,8,9]\n",
    "# y = [1,2,3,4,5,6,7,8,9]\n",
    "\n",
    "num = int(input(f'출력하고 싶은 단을 입력하세요> '))\n",
    "print(f'<{num}단>')\n",
    "for i in range(1, 9+1):\n",
    "    print(num, \"X\", i, \"=\", num * i)\n",
    "    \n"
   ]
  }
 ],
 "metadata": {
  "kernelspec": {
   "display_name": "Python 3",
   "language": "python",
   "name": "python3"
  },
  "language_info": {
   "codemirror_mode": {
    "name": "ipython",
    "version": 3
   },
   "file_extension": ".py",
   "mimetype": "text/x-python",
   "name": "python",
   "nbconvert_exporter": "python",
   "pygments_lexer": "ipython3",
   "version": "3.11.5"
  }
 },
 "nbformat": 4,
 "nbformat_minor": 2
}
