{
 "cells": [
  {
   "cell_type": "markdown",
   "metadata": {},
   "source": [
    "## 1번 문제"
   ]
  },
  {
   "cell_type": "code",
   "execution_count": 2,
   "metadata": {},
   "outputs": [
    {
     "name": "stdout",
     "output_type": "stream",
     "text": [
      "원의 넓이는 78.53981633974483\n"
     ]
    }
   ],
   "source": [
    "# 1번 문제 : 반지름 값을 입력 받아 원의 넓이를 출력하는 프로그램을 구현하시오. π는 3.141592 입니다.\n",
    "\n",
    "import math \n",
    "\n",
    "radius = int(input('반지름 입력'))\n",
    "print(f'원의 넓이는 {radius * radius * math.pi}')"
   ]
  },
  {
   "cell_type": "markdown",
   "metadata": {},
   "source": [
    "## 2번 문제"
   ]
  },
  {
   "cell_type": "code",
   "execution_count": 3,
   "metadata": {},
   "outputs": [
    {
     "name": "stdout",
     "output_type": "stream",
     "text": [
      "Mercury\n"
     ]
    }
   ],
   "source": [
    "# 2번 문제 : 태양계는 수성, 금성, 지구, 화성, 목성, 토성, 천왕성, 해왕성으로 구성됩니다. 영어 이름은 Mercury, Venus, Earth, Mars, Jupiter,  Saturn, Uranus, Neptune 입니다.  행성의 영어 이름을 입력하면 한글 행성 이름이 출력 되는 프로그램을 구현하세요.\n",
    "\n",
    "solar ={'수성':'Mercury', '금성':'Venus', '지구':'Earth',\n",
    "         '화성':'Mars', '목성':'Jupiter', '토성':'Saturn', '천왕성':'Uranus', '해왕성':'Neptune'}\n",
    "uni_2 =['Mercury', 'Venus', 'Earth', 'Mars', 'Jupiter',  'Saturn', 'Uranus', 'Neptune']\n",
    "\n",
    "kname = input('행성이름(한글) 입력 > ')\n",
    "print(solar[kname])\n"
   ]
  },
  {
   "cell_type": "markdown",
   "metadata": {},
   "source": [
    "## 3번 문제"
   ]
  },
  {
   "cell_type": "code",
   "execution_count": 8,
   "metadata": {},
   "outputs": [
    {
     "name": "stdout",
     "output_type": "stream",
     "text": [
      "단어수: 5\n",
      "hello hello my <built-in method upper of str object at 0x000001AAAC50F8F0> name name is <built-in method upper of str object at 0x000001AAAC50D3F0> hyejin hyejin "
     ]
    }
   ],
   "source": [
    "# 3번 문제 : 입력한 영어 문자열의 단어의 수를 출력하고 입력된 단어를 짝수로 대문자로 변경하여 출력하는 프로그램을 구현하세요. 예) I'm going to leave the door open = 7 / \n",
    "# I'm GOING to LEAVE the DOOR open\n",
    "\n",
    "sentence = input('영어 문장 입력 > ')\n",
    "sentences = sentence.split(' ')\n",
    "print(f'단어 수: {len(sentences)}' )\n",
    "\n",
    "# 1번 풀이\n",
    "num = 1\n",
    "for i in sentences : \n",
    "    print(i, end = ' ')\n",
    "    if (num % 2 == 0):\n",
    "        print(i.upper(),end = ' ' )\n",
    "    else : \n",
    "        print(i, end=' ')\n",
    "    num += 1\n"
   ]
  },
  {
   "cell_type": "code",
   "execution_count": 90,
   "metadata": {},
   "outputs": [
    {
     "name": "stdout",
     "output_type": "stream",
     "text": [
      "웹사이트 주소: www.naver.com\n"
     ]
    }
   ],
   "source": [
    "# 4번 문제 : 영문이름을 입력하면 웹사이트 주소가 리턴되는 함수 get_url() 를  구현하세요.\n",
    "# 예) url = get_url('google') \n",
    "# print(url) # www.google.com\n",
    "\n",
    "def get_url(name):\n",
    "    return f'www.{name}.com'\n",
    "\n",
    "inname = input(\"웹의 영문 이름을 입력하세요> \")\n",
    "\n",
    "url = get_url(inname)\n",
    "print(\"웹사이트 주소:\", url)\n",
    "\n"
   ]
  },
  {
   "cell_type": "markdown",
   "metadata": {},
   "source": [
    "## 5번 문제"
   ]
  },
  {
   "cell_type": "code",
   "execution_count": 94,
   "metadata": {},
   "outputs": [
    {
     "name": "stdout",
     "output_type": "stream",
     "text": [
      "<4단>\n",
      "4 X 1 = 4\n",
      "4 X 2 = 8\n",
      "4 X 3 = 12\n",
      "4 X 4 = 16\n",
      "4 X 5 = 20\n",
      "4 X 6 = 24\n",
      "4 X 7 = 28\n",
      "4 X 8 = 32\n",
      "4 X 9 = 36\n"
     ]
    }
   ],
   "source": [
    "# 5번 문제 : 구구단을 수행할 단번호를 입력하면 그 단의 9까지의 결과를 나열하는 프로그램을 입력하세요. 예) 3 --> 3 6 9 12 15 18 21 24 2\n",
    "\n",
    "dan_num = int(input('구구단 단번호 입력 > '))\n",
    "\n",
    "print(dan_num, end=' --> ')\n",
    "for i in range(1, 10):\n",
    "    print(dan_num * i, end=' ')"
   ]
  },
  {
   "cell_type": "markdown",
   "metadata": {},
   "source": []
  }
 ],
 "metadata": {
  "kernelspec": {
   "display_name": "Python 3",
   "language": "python",
   "name": "python3"
  },
  "language_info": {
   "codemirror_mode": {
    "name": "ipython",
    "version": 3
   },
   "file_extension": ".py",
   "mimetype": "text/x-python",
   "name": "python",
   "nbconvert_exporter": "python",
   "pygments_lexer": "ipython3",
   "version": "3.11.5"
  }
 },
 "nbformat": 4,
 "nbformat_minor": 2
}
